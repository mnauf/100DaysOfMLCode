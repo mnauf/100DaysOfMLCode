{
 "cells": [
  {
   "cell_type": "code",
   "execution_count": 1,
   "metadata": {
    "colab": {},
    "colab_type": "code",
    "id": "dyDtXdrAFEyU"
   },
   "outputs": [],
   "source": [
    "import torch as th"
   ]
  },
  {
   "cell_type": "code",
   "execution_count": 2,
   "metadata": {
    "colab": {},
    "colab_type": "code",
    "id": "DuonAc46FEyd"
   },
   "outputs": [],
   "source": [
    "input_tensor = th.tensor([[1,1],[1.0,0],[1,1],[0,0],[0,1],[0,0]],requires_grad=True)\n",
    "target_tensor = th.tensor([[1.0],[1],[1],[0],[0],[0]],requires_grad=True)"
   ]
  },
  {
   "cell_type": "code",
   "execution_count": 3,
   "metadata": {
    "colab": {},
    "colab_type": "code",
    "id": "p10sqd0SFEyk"
   },
   "outputs": [],
   "source": [
    "from torch.optim import optimizer\n",
    "from torch import optim\n",
    "from torch import nn\n",
    "import torch.nn.functional as F\n",
    "# class Classifier(nn.Module):\n",
    "#     def __init__(self):\n",
    "#         super().__init__()\n",
    "#         self.fc = nn.Linear(2,1)\n",
    "#     def forward(self,x):\n",
    "#         x = F.ReLU(self.fc(x))\n",
    "#         return x\n",
    "model = nn.Linear(2,1)"
   ]
  },
  {
   "cell_type": "code",
   "execution_count": 4,
   "metadata": {
    "colab": {
     "base_uri": "https://localhost:8080/",
     "height": 34
    },
    "colab_type": "code",
    "executionInfo": {
     "elapsed": 618,
     "status": "ok",
     "timestamp": 1569056928701,
     "user": {
      "displayName": "Kris Stern",
      "photoUrl": "https://lh3.googleusercontent.com/a-/AAuE7mB24fkH2NyZNsXvskT1MuKEgkLYrEHHu9KoVmwH=s64",
      "userId": "15561464600379012140"
     },
     "user_tz": -480
    },
    "id": "XsjaSIETFEyp",
    "outputId": "28c62fbc-1234-4258-8e13-e26207b48265"
   },
   "outputs": [
    {
     "data": {
      "text/plain": [
       "torch.Size([6, 2])"
      ]
     },
     "execution_count": 4,
     "metadata": {},
     "output_type": "execute_result"
    }
   ],
   "source": [
    "input_tensor.shape"
   ]
  },
  {
   "cell_type": "code",
   "execution_count": 5,
   "metadata": {
    "colab": {
     "base_uri": "https://localhost:8080/",
     "height": 34
    },
    "colab_type": "code",
    "executionInfo": {
     "elapsed": 831,
     "status": "ok",
     "timestamp": 1569056931009,
     "user": {
      "displayName": "Kris Stern",
      "photoUrl": "https://lh3.googleusercontent.com/a-/AAuE7mB24fkH2NyZNsXvskT1MuKEgkLYrEHHu9KoVmwH=s64",
      "userId": "15561464600379012140"
     },
     "user_tz": -480
    },
    "id": "aVCgPgSYFEyw",
    "outputId": "ac1f06c6-f7b3-4b48-e1bb-eb87b7423be7"
   },
   "outputs": [
    {
     "data": {
      "text/plain": [
       "torch.Size([6, 1])"
      ]
     },
     "execution_count": 5,
     "metadata": {},
     "output_type": "execute_result"
    }
   ],
   "source": [
    "target_tensor.shape"
   ]
  },
  {
   "cell_type": "code",
   "execution_count": 6,
   "metadata": {
    "colab": {},
    "colab_type": "code",
    "id": "id9cWLrZFEy2"
   },
   "outputs": [],
   "source": [
    "#target_tensor"
   ]
  },
  {
   "cell_type": "code",
   "execution_count": 7,
   "metadata": {
    "colab": {},
    "colab_type": "code",
    "id": "uFhnHv6kFEy6"
   },
   "outputs": [],
   "source": [
    "# target_tensor.squeeze()"
   ]
  },
  {
   "cell_type": "code",
   "execution_count": 10,
   "metadata": {
    "colab": {
     "base_uri": "https://localhost:8080/",
     "height": 191
    },
    "colab_type": "code",
    "executionInfo": {
     "elapsed": 873,
     "status": "ok",
     "timestamp": 1569057579972,
     "user": {
      "displayName": "Kris Stern",
      "photoUrl": "https://lh3.googleusercontent.com/a-/AAuE7mB24fkH2NyZNsXvskT1MuKEgkLYrEHHu9KoVmwH=s64",
      "userId": "15561464600379012140"
     },
     "user_tz": -480
    },
    "id": "VNG7VXmxFEy9",
    "outputId": "641f46b3-b066-4c2c-f849-09bcb55e648c"
   },
   "outputs": [
    {
     "name": "stdout",
     "output_type": "stream",
     "text": [
      "tensor(0.5115)\n",
      "tensor(0.5084)\n",
      "tensor(0.5029)\n",
      "tensor(0.4956)\n",
      "tensor(0.4869)\n",
      "tensor(0.4772)\n",
      "tensor(0.4668)\n",
      "tensor(0.4560)\n",
      "tensor(0.4449)\n",
      "tensor(0.4338)\n",
      "tensor(0.4227)\n",
      "tensor(0.4117)\n",
      "tensor(0.4010)\n",
      "tensor(0.3904)\n",
      "tensor(0.3802)\n",
      "tensor(0.3702)\n",
      "tensor(0.3606)\n",
      "tensor(0.3513)\n",
      "tensor(0.3424)\n",
      "tensor(0.3337)\n",
      "tensor(0.3254)\n",
      "tensor(0.3174)\n",
      "tensor(0.3097)\n",
      "tensor(0.3023)\n",
      "tensor(0.2951)\n",
      "tensor(0.2883)\n",
      "tensor(0.2817)\n",
      "tensor(0.2754)\n",
      "tensor(0.2693)\n",
      "tensor(0.2634)\n",
      "tensor(0.2578)\n",
      "tensor(0.2523)\n",
      "tensor(0.2471)\n",
      "tensor(0.2421)\n",
      "tensor(0.2372)\n",
      "tensor(0.2325)\n",
      "tensor(0.2280)\n",
      "tensor(0.2236)\n",
      "tensor(0.2194)\n",
      "tensor(0.2153)\n",
      "tensor(0.2114)\n",
      "tensor(0.2076)\n",
      "tensor(0.2039)\n",
      "tensor(0.2003)\n",
      "tensor(0.1968)\n",
      "tensor(0.1935)\n",
      "tensor(0.1903)\n",
      "tensor(0.1871)\n",
      "tensor(0.1841)\n",
      "tensor(0.1811)\n",
      "tensor(0.1782)\n",
      "tensor(0.1755)\n",
      "tensor(0.1728)\n",
      "tensor(0.1701)\n",
      "tensor(0.1676)\n",
      "tensor(0.1651)\n",
      "tensor(0.1627)\n",
      "tensor(0.1603)\n",
      "tensor(0.1580)\n",
      "tensor(0.1558)\n",
      "tensor(0.1537)\n",
      "tensor(0.1515)\n",
      "tensor(0.1495)\n",
      "tensor(0.1475)\n",
      "tensor(0.1455)\n",
      "tensor(0.1436)\n",
      "tensor(0.1418)\n",
      "tensor(0.1400)\n",
      "tensor(0.1382)\n",
      "tensor(0.1365)\n",
      "tensor(0.1348)\n",
      "tensor(0.1331)\n",
      "tensor(0.1315)\n",
      "tensor(0.1300)\n",
      "tensor(0.1284)\n",
      "tensor(0.1269)\n",
      "tensor(0.1254)\n",
      "tensor(0.1240)\n",
      "tensor(0.1226)\n",
      "tensor(0.1212)\n",
      "tensor(0.1199)\n",
      "tensor(0.1186)\n",
      "tensor(0.1173)\n",
      "tensor(0.1160)\n",
      "tensor(0.1148)\n",
      "tensor(0.1136)\n",
      "tensor(0.1124)\n",
      "tensor(0.1112)\n",
      "tensor(0.1101)\n",
      "tensor(0.1090)\n",
      "tensor(0.1079)\n",
      "tensor(0.1068)\n",
      "tensor(0.1057)\n",
      "tensor(0.1047)\n",
      "tensor(0.1037)\n",
      "tensor(0.1027)\n",
      "tensor(0.1017)\n",
      "tensor(0.1007)\n",
      "tensor(0.0998)\n",
      "tensor(0.0989)\n"
     ]
    }
   ],
   "source": [
    "criterion = nn.BCEWithLogitsLoss()\n",
    "optimizer = optim.SGD(model.parameters(), lr =0.1, momentum=0.8)\n",
    "\n",
    "for i in range(100):\n",
    "    optimizer.zero_grad()\n",
    "    predict_tensor = model(input_tensor)\n",
    "    # print(predict_tensor)\n",
    "    loss = criterion(predict_tensor,target_tensor)\n",
    "    loss.backward()\n",
    "    optimizer.step()\n",
    "    print(loss.data)"
   ]
  },
  {
   "cell_type": "code",
   "execution_count": 11,
   "metadata": {
    "colab": {},
    "colab_type": "code",
    "id": "qJlVmexmFEzD"
   },
   "outputs": [],
   "source": [
    "predict = model(th.tensor([0.0, 1.0]))"
   ]
  },
  {
   "cell_type": "code",
   "execution_count": 12,
   "metadata": {
    "colab": {
     "base_uri": "https://localhost:8080/",
     "height": 34
    },
    "colab_type": "code",
    "executionInfo": {
     "elapsed": 763,
     "status": "ok",
     "timestamp": 1569057682768,
     "user": {
      "displayName": "Kris Stern",
      "photoUrl": "https://lh3.googleusercontent.com/a-/AAuE7mB24fkH2NyZNsXvskT1MuKEgkLYrEHHu9KoVmwH=s64",
      "userId": "15561464600379012140"
     },
     "user_tz": -480
    },
    "id": "Uf57oJg2FEzH",
    "outputId": "cdb94a69-3892-4a10-ebf0-2d192fc0e1ae"
   },
   "outputs": [
    {
     "name": "stdout",
     "output_type": "stream",
     "text": [
      "tensor([1.8350], grad_fn=<AbsBackward>)\n"
     ]
    }
   ],
   "source": [
    "predict = abs(predict)\n",
    "print(predict)"
   ]
  },
  {
   "cell_type": "code",
   "execution_count": 13,
   "metadata": {
    "colab": {},
    "colab_type": "code",
    "id": "inWbope2FEzN"
   },
   "outputs": [],
   "source": [
    "if predict > 0.5:\n",
    "  pred = 1\n",
    "else:\n",
    "  pred = 0"
   ]
  },
  {
   "cell_type": "code",
   "execution_count": 14,
   "metadata": {
    "colab": {
     "base_uri": "https://localhost:8080/",
     "height": 34
    },
    "colab_type": "code",
    "executionInfo": {
     "elapsed": 887,
     "status": "ok",
     "timestamp": 1569057589438,
     "user": {
      "displayName": "Kris Stern",
      "photoUrl": "https://lh3.googleusercontent.com/a-/AAuE7mB24fkH2NyZNsXvskT1MuKEgkLYrEHHu9KoVmwH=s64",
      "userId": "15561464600379012140"
     },
     "user_tz": -480
    },
    "id": "QnN2n2nMFEzR",
    "outputId": "be464955-4f5b-48c0-a0f1-960b107b6704"
   },
   "outputs": [
    {
     "name": "stdout",
     "output_type": "stream",
     "text": [
      "1\n"
     ]
    }
   ],
   "source": [
    "print(pred)"
   ]
  },
  {
   "cell_type": "code",
   "execution_count": 0,
   "metadata": {
    "colab": {},
    "colab_type": "code",
    "id": "wWwJFthdHIdv"
   },
   "outputs": [],
   "source": []
  }
 ],
 "metadata": {
  "colab": {
   "name": "Toy1_DLND.ipynb",
   "provenance": []
  },
  "kernelspec": {
   "display_name": "Python 3",
   "language": "python",
   "name": "python3"
  },
  "language_info": {
   "codemirror_mode": {
    "name": "ipython",
    "version": 3
   },
   "file_extension": ".py",
   "mimetype": "text/x-python",
   "name": "python",
   "nbconvert_exporter": "python",
   "pygments_lexer": "ipython3",
   "version": "3.7.3"
  }
 },
 "nbformat": 4,
 "nbformat_minor": 1
}
