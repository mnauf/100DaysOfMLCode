{
 "cells": [
  {
   "cell_type": "code",
   "execution_count": 0,
   "metadata": {
    "colab": {},
    "colab_type": "code",
    "id": "dyDtXdrAFEyU"
   },
   "outputs": [],
   "source": [
    "import torch as th"
   ]
  },
  {
   "cell_type": "code",
   "execution_count": 0,
   "metadata": {
    "colab": {},
    "colab_type": "code",
    "id": "DuonAc46FEyd"
   },
   "outputs": [],
   "source": [
    "input_tensor = th.tensor([[1,1],[1.0,0],[1,1],[0,0],[0,1],[0,0]],requires_grad=True)\n",
    "target_tensor = th.tensor([[1.0],[1],[1],[0],[0],[0]],requires_grad=True)"
   ]
  },
  {
   "cell_type": "code",
   "execution_count": 0,
   "metadata": {
    "colab": {},
    "colab_type": "code",
    "id": "p10sqd0SFEyk"
   },
   "outputs": [],
   "source": [
    "from torch.optim import optimizer\n",
    "from torch import optim\n",
    "from torch import nn\n",
    "import torch.nn.functional as F\n",
    "# class Classifier(nn.Module):\n",
    "#     def __init__(self):\n",
    "#         super().__init__()\n",
    "#         self.fc = nn.Linear(2,1)\n",
    "#     def forward(self,x):\n",
    "#         x = F.ReLU(self.fc(x))\n",
    "#         return x\n",
    "model = nn.Linear(2,1)"
   ]
  },
  {
   "cell_type": "code",
   "execution_count": 4,
   "metadata": {
    "colab": {
     "base_uri": "https://localhost:8080/",
     "height": 34
    },
    "colab_type": "code",
    "executionInfo": {
     "elapsed": 618,
     "status": "ok",
     "timestamp": 1569056928701,
     "user": {
      "displayName": "Kris Stern",
      "photoUrl": "https://lh3.googleusercontent.com/a-/AAuE7mB24fkH2NyZNsXvskT1MuKEgkLYrEHHu9KoVmwH=s64",
      "userId": "15561464600379012140"
     },
     "user_tz": -480
    },
    "id": "XsjaSIETFEyp",
    "outputId": "28c62fbc-1234-4258-8e13-e26207b48265"
   },
   "outputs": [
    {
     "data": {
      "text/plain": [
       "torch.Size([6, 2])"
      ]
     },
     "execution_count": 4,
     "metadata": {
      "tags": []
     },
     "output_type": "execute_result"
    }
   ],
   "source": [
    "input_tensor.shape"
   ]
  },
  {
   "cell_type": "code",
   "execution_count": 5,
   "metadata": {
    "colab": {
     "base_uri": "https://localhost:8080/",
     "height": 34
    },
    "colab_type": "code",
    "executionInfo": {
     "elapsed": 831,
     "status": "ok",
     "timestamp": 1569056931009,
     "user": {
      "displayName": "Kris Stern",
      "photoUrl": "https://lh3.googleusercontent.com/a-/AAuE7mB24fkH2NyZNsXvskT1MuKEgkLYrEHHu9KoVmwH=s64",
      "userId": "15561464600379012140"
     },
     "user_tz": -480
    },
    "id": "aVCgPgSYFEyw",
    "outputId": "ac1f06c6-f7b3-4b48-e1bb-eb87b7423be7"
   },
   "outputs": [
    {
     "data": {
      "text/plain": [
       "torch.Size([6, 1])"
      ]
     },
     "execution_count": 5,
     "metadata": {
      "tags": []
     },
     "output_type": "execute_result"
    }
   ],
   "source": [
    "target_tensor.shape"
   ]
  },
  {
   "cell_type": "code",
   "execution_count": 0,
   "metadata": {
    "colab": {},
    "colab_type": "code",
    "id": "id9cWLrZFEy2"
   },
   "outputs": [],
   "source": [
    "#target_tensor"
   ]
  },
  {
   "cell_type": "code",
   "execution_count": 0,
   "metadata": {
    "colab": {},
    "colab_type": "code",
    "id": "uFhnHv6kFEy6"
   },
   "outputs": [],
   "source": [
    "# target_tensor.squeeze()"
   ]
  },
  {
   "cell_type": "code",
   "execution_count": 31,
   "metadata": {
    "colab": {
     "base_uri": "https://localhost:8080/",
     "height": 191
    },
    "colab_type": "code",
    "executionInfo": {
     "elapsed": 873,
     "status": "ok",
     "timestamp": 1569057579972,
     "user": {
      "displayName": "Kris Stern",
      "photoUrl": "https://lh3.googleusercontent.com/a-/AAuE7mB24fkH2NyZNsXvskT1MuKEgkLYrEHHu9KoVmwH=s64",
      "userId": "15561464600379012140"
     },
     "user_tz": -480
    },
    "id": "VNG7VXmxFEy9",
    "outputId": "641f46b3-b066-4c2c-f849-09bcb55e648c"
   },
   "outputs": [
    {
     "name": "stdout",
     "output_type": "stream",
     "text": [
      "tensor(0.6534)\n",
      "tensor(0.6458)\n",
      "tensor(0.6327)\n",
      "tensor(0.6162)\n",
      "tensor(0.5978)\n",
      "tensor(0.5789)\n",
      "tensor(0.5602)\n",
      "tensor(0.5423)\n",
      "tensor(0.5253)\n",
      "tensor(0.5093)\n"
     ]
    }
   ],
   "source": [
    "criterion = nn.BCEWithLogitsLoss()\n",
    "optimizer = optim.SGD(model.parameters(), lr =0.1, momentum=0.8)\n",
    "\n",
    "for i in range(10):\n",
    "    optimizer.zero_grad()\n",
    "    predict_tensor = model(input_tensor)\n",
    "    # print(predict_tensor)\n",
    "    loss = criterion(predict_tensor,target_tensor)\n",
    "    loss.backward()\n",
    "    optimizer.step()\n",
    "    print(loss.data)"
   ]
  },
  {
   "cell_type": "code",
   "execution_count": 0,
   "metadata": {
    "colab": {},
    "colab_type": "code",
    "id": "qJlVmexmFEzD"
   },
   "outputs": [],
   "source": [
    "predict = model(th.tensor([0.0, 1.0]))"
   ]
  },
  {
   "cell_type": "code",
   "execution_count": 40,
   "metadata": {
    "colab": {
     "base_uri": "https://localhost:8080/",
     "height": 34
    },
    "colab_type": "code",
    "executionInfo": {
     "elapsed": 763,
     "status": "ok",
     "timestamp": 1569057682768,
     "user": {
      "displayName": "Kris Stern",
      "photoUrl": "https://lh3.googleusercontent.com/a-/AAuE7mB24fkH2NyZNsXvskT1MuKEgkLYrEHHu9KoVmwH=s64",
      "userId": "15561464600379012140"
     },
     "user_tz": -480
    },
    "id": "Uf57oJg2FEzH",
    "outputId": "cdb94a69-3892-4a10-ebf0-2d192fc0e1ae"
   },
   "outputs": [
    {
     "name": "stdout",
     "output_type": "stream",
     "text": [
      "tensor([0.0935], grad_fn=<AbsBackward>)\n"
     ]
    }
   ],
   "source": [
    "predict = abs(predict)\n",
    "print(predict)"
   ]
  },
  {
   "cell_type": "code",
   "execution_count": 0,
   "metadata": {
    "colab": {},
    "colab_type": "code",
    "id": "inWbope2FEzN"
   },
   "outputs": [],
   "source": [
    "if predict > 0.5:\n",
    "  pred = 1\n",
    "else:\n",
    "  pred = 0"
   ]
  },
  {
   "cell_type": "code",
   "execution_count": 35,
   "metadata": {
    "colab": {
     "base_uri": "https://localhost:8080/",
     "height": 34
    },
    "colab_type": "code",
    "executionInfo": {
     "elapsed": 887,
     "status": "ok",
     "timestamp": 1569057589438,
     "user": {
      "displayName": "Kris Stern",
      "photoUrl": "https://lh3.googleusercontent.com/a-/AAuE7mB24fkH2NyZNsXvskT1MuKEgkLYrEHHu9KoVmwH=s64",
      "userId": "15561464600379012140"
     },
     "user_tz": -480
    },
    "id": "QnN2n2nMFEzR",
    "outputId": "be464955-4f5b-48c0-a0f1-960b107b6704"
   },
   "outputs": [
    {
     "name": "stdout",
     "output_type": "stream",
     "text": [
      "1\n"
     ]
    }
   ],
   "source": [
    "print(pred)"
   ]
  },
  {
   "cell_type": "code",
   "execution_count": 0,
   "metadata": {
    "colab": {},
    "colab_type": "code",
    "id": "wWwJFthdHIdv"
   },
   "outputs": [],
   "source": [
    ""
   ]
  }
 ],
 "metadata": {
  "colab": {
   "name": "Toy1_DLND.ipynb",
   "provenance": []
  },
  "kernelspec": {
   "display_name": "Python 3",
   "language": "python",
   "name": "python3"
  },
  "language_info": {
   "codemirror_mode": {
    "name": "ipython",
    "version": 3
   },
   "file_extension": ".py",
   "mimetype": "text/x-python",
   "name": "python",
   "nbconvert_exporter": "python",
   "pygments_lexer": "ipython3",
   "version": "3.7.3"
  }
 },
 "nbformat": 4,
 "nbformat_minor": 0
}
